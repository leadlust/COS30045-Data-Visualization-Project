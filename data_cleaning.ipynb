{
 "cells": [
  {
   "cell_type": "code",
   "execution_count": 2,
   "id": "13deb53e-8e4c-437e-ac98-107e2e2dc41c",
   "metadata": {},
   "outputs": [
    {
     "name": "stdout",
     "output_type": "stream",
     "text": [
      "['STRUCTURE', 'STRUCTURE_ID', 'STRUCTURE_NAME', 'ACTION', 'REF_AREA', 'Reference area', 'FREQ', 'Frequency of observation', 'MEASURE', 'Measure', 'EROSION_LEVEL', 'Erosion risk level', 'WATER_TYPE', 'Water type', 'NUTRIENTS', 'Nutrients', 'UNIT_MEASURE', 'Unit of measure', 'TIME_PERIOD', 'Time period', 'OBS_VALUE', 'Observation value', 'DECIMALS', 'Decimals', 'OBS_STATUS', 'Observation status', 'UNIT_MULT', 'Unit multiplier', 'BASE_PER', 'Base period']\n"
     ]
    }
   ],
   "source": [
    "df = pd.read_csv('project_dataset.csv')\n",
    "print(df.columns.tolist())"
   ]
  },
  {
   "cell_type": "code",
   "execution_count": 4,
   "id": "51a9a634-6195-4cbe-a341-f78c176dad6f",
   "metadata": {},
   "outputs": [],
   "source": [
    "# Define the country mapping dictionary\n",
    "country_mapping = {\n",
    "    \"Czechia\": \"Czech Republic\",\n",
    "    \"Slovak Republic\": \"Slovakia\",\n",
    "    \"Korea\": \"South Korea\",\n",
    "    \"TÃ¼rkiye\": \"Turkey\",\n",
    "    \"China (Peopleâ€™s Republic of)\": \"China\",\n",
    "    \"Viet Nam\": \"Vietnam\",\n",
    "    \"European Union (28 countries)\": \"European Union\",\n",
    "    \"European Union (27 countries)\": \"European Union\",\n",
    "    \"European Union (27 countries from 01/02/2020)\": \"European Union\",\n",
    "    \"Flemish Region\": \"Belgium (Flemish Region)\",\n",
    "    \"Wallonia\": \"Belgium (Walloon Region)\",\n",
    "    \"United States\": \"United States of America\",\n",
    "    \"Czech Republic\": \"Czechia\"\n",
    "}\n",
    "\n",
    "# Apply the mapping to the 'Reference area' column\n",
    "df['Reference area'] = df['Reference area'].replace(country_mapping)"
   ]
  },
  {
   "cell_type": "code",
   "execution_count": 6,
   "id": "6fe30de3-50ec-4d89-ba5d-6cae05c6182c",
   "metadata": {},
   "outputs": [
    {
     "name": "stdout",
     "output_type": "stream",
     "text": [
      "REF_AREA                  0\n",
      "Reference area            0\n",
      "MEASURE                   0\n",
      "Measure                   0\n",
      "EROSION_LEVEL             0\n",
      "Erosion risk level        0\n",
      "WATER_TYPE                0\n",
      "Water type                0\n",
      "NUTRIENTS                 0\n",
      "Nutrients                 0\n",
      "UNIT_MEASURE              0\n",
      "Unit of measure           0\n",
      "TIME_PERIOD               0\n",
      "OBS_VALUE                 0\n",
      "OBS_STATUS                0\n",
      "Observation status        0\n",
      "UNIT_MULT                 0\n",
      "BASE_PER              53103\n",
      "dtype: int64\n"
     ]
    }
   ],
   "source": [
    "# checking columns with no value\n",
    "print(df.isnull().sum())"
   ]
  },
  {
   "cell_type": "code",
   "execution_count": 8,
   "id": "fcd43073-9782-40b6-9d5a-7b07889915e8",
   "metadata": {},
   "outputs": [
    {
     "name": "stderr",
     "output_type": "stream",
     "text": [
      "C:\\Users\\USER\\AppData\\Local\\Temp\\ipykernel_13700\\1414147022.py:2: FutureWarning: A value is trying to be set on a copy of a DataFrame or Series through chained assignment using an inplace method.\n",
      "The behavior will change in pandas 3.0. This inplace method will never work because the intermediate object on which we are setting values always behaves as a copy.\n",
      "\n",
      "For example, when doing 'df[col].method(value, inplace=True)', try using 'df.method({col: value}, inplace=True)' or df[col] = df[col].method(value) instead, to perform the operation inplace on the original object.\n",
      "\n",
      "\n",
      "  df['BASE_PER'].fillna('NULL', inplace=True)\n",
      "C:\\Users\\USER\\AppData\\Local\\Temp\\ipykernel_13700\\1414147022.py:2: FutureWarning: Setting an item of incompatible dtype is deprecated and will raise an error in a future version of pandas. Value 'NULL' has dtype incompatible with float64, please explicitly cast to a compatible dtype first.\n",
      "  df['BASE_PER'].fillna('NULL', inplace=True)\n"
     ]
    }
   ],
   "source": [
    "df.replace('_Z', 'N/A', inplace=True)\n",
    "df['BASE_PER'].fillna('NULL', inplace=True)\n",
    "df.replace('Not applicable', 'N/A', inplace=True)\n",
    "# Fix encoding in 'Reference area' if necessary\n"
   ]
  },
  {
   "cell_type": "code",
   "execution_count": 10,
   "id": "b4f9d8fa-5bf6-4107-9376-76c42aefa8ae",
   "metadata": {},
   "outputs": [],
   "source": [
    "# Save the DataFrame to a CSV file\n",
    "df.to_csv('processed_project_dataset.csv', index=False) "
   ]
  }
 ],
 "metadata": {
  "kernelspec": {
   "display_name": "Python [conda env:base] *",
   "language": "python",
   "name": "conda-base-py"
  },
  "language_info": {
   "codemirror_mode": {
    "name": "ipython",
    "version": 3
   },
   "file_extension": ".py",
   "mimetype": "text/x-python",
   "name": "python",
   "nbconvert_exporter": "python",
   "pygments_lexer": "ipython3",
   "version": "3.12.3"
  }
 },
 "nbformat": 4,
 "nbformat_minor": 5
}
